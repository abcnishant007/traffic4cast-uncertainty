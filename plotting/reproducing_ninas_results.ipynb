{
 "cells": [
  {
   "cell_type": "code",
   "execution_count": null,
   "id": "4a1aab08",
   "metadata": {},
   "outputs": [],
   "source": [
    "! pwd"
   ]
  },
  {
   "cell_type": "code",
   "execution_count": null,
   "id": "91111a88",
   "metadata": {},
   "outputs": [],
   "source": [
    "from smartprint import smartprint as sprint\n",
    "import numpy as np\n",
    "\n",
    "# speed = np.load(\"nina_mean_gt_pred_unc_error_speed.npy\")\n",
    "# volume = np.load(\"nina_mean_gt_pred_unc_error_volume.npy\")\n",
    "\n",
    "speed = np.load(\"mean_gt_pred_unc_err_antwerp_tta0_speed.npy\")\n",
    "volume = np.load(\"mean_gt_pred_unc_err_antwerp_tta0_volume.npy\")\n",
    "\n",
    "sprint (speed.shape, volume.shape)"
   ]
  },
  {
   "cell_type": "code",
   "execution_count": null,
   "id": "bdf0309b",
   "metadata": {},
   "outputs": [],
   "source": [
    "speed_gt, speed_pred, speed_unc, speed_err = speed[0, :, :, :], speed[1, :, :, :], \\\n",
    "                                            speed[2, :, :, :], speed[3, :, :, :]\n",
    "volume_gt, volume_pred, volume_unc, volume_err = volume[0, :, :, :], volume[1, :, :, :], \\\n",
    "                                            volume[2, :, :, :], volume[3, :, :, :]"
   ]
  },
  {
   "cell_type": "code",
   "execution_count": null,
   "id": "fb9b5e5e",
   "metadata": {},
   "outputs": [],
   "source": [
    "non_zero_speed = speed_gt > 0\n",
    "\n",
    "density_gt = volume_gt/speed_gt\n",
    "non_zero_density = density_gt > 0\n",
    "non_outlier_densities = density_gt < 255\n",
    "\n",
    "valid_indices = non_zero_density & non_zero_speed & non_outlier_densities\n",
    "\n",
    "sprint (\"\\n\", speed_gt.shape, non_zero_speed.shape, valid_indices.shape, non_zero_density.shape)\n",
    "speed_gt = speed_gt[valid_indices].tolist()\n",
    "speed_pred = speed_pred[valid_indices].tolist()\n",
    "speed_unc = speed_unc[valid_indices].tolist()\n",
    "speed_err = speed_err[valid_indices].tolist()\n",
    "\n",
    "volume_gt = volume_gt[valid_indices].tolist()\n",
    "volume_pred = volume_pred[valid_indices].tolist()\n",
    "volume_unc = volume_unc[valid_indices].tolist()\n",
    "volume_err = volume_err[valid_indices].tolist()\n",
    "\n",
    "density_gt = density_gt[valid_indices].tolist()\n",
    "\n"
   ]
  },
  {
   "cell_type": "code",
   "execution_count": null,
   "id": "8be1c31a",
   "metadata": {},
   "outputs": [],
   "source": [
    "len(density_gt)"
   ]
  },
  {
   "cell_type": "code",
   "execution_count": null,
   "id": "e11976df",
   "metadata": {},
   "outputs": [],
   "source": [
    "def sort_two_lists_according_to_first(X,Y):\n",
    "    ss = sorted(zip(X, Y))\n",
    "    X = [x for x, y in ss]\n",
    "    Y = [y for x, y in ss]    \n",
    "    return X, Y\n",
    "\n",
    "\n",
    "import matplotlib.pyplot as plt\n",
    "import numpy as np\n",
    "\n",
    "\n",
    "smoothing_window = 1001\n",
    "\n",
    "\n",
    "X, _ = sort_two_lists_according_to_first(density_gt, speed_gt)\n",
    "plt.plot(X[smoothing_window//2:-smoothing_window//2], label=\"density\")    \n",
    "\n",
    "names = ['speed_gt', 'speed_err', 'speed_unc', 'volume_err', 'volume_gt', 'volume_unc']\n",
    "for index, var in enumerate([speed_gt, speed_err, speed_unc, volume_err, volume_gt, volume_unc]):\n",
    "    \n",
    "    sprint (len(var))\n",
    "    _, Y = sort_two_lists_according_to_first(density_gt, var)\n",
    "    Y = Y[smoothing_window//2:-smoothing_window//2]\n",
    "    \n",
    "    plt.plot(np.convolve(Y, [1/smoothing_window]*smoothing_window, \"same\"), label=names[index])\n",
    "#     plt.show()\n",
    "plt.yscale(\"log\")\n",
    "p = np.array([0.0, 25.0, 50.0, 75.0, 100.0])\n",
    "plt.xticks(((len(X)-1) * p/100), map(str, p))\n",
    "plt.legend()\n",
    "plt.show()\n",
    "\n",
    "\n",
    "\n",
    "\n",
    "############ Same thing with absolute values of quantiles on the xticks\n",
    "def sort_two_lists_according_to_first(X,Y):\n",
    "    ss = sorted(zip(X, Y))\n",
    "    X = [x for x, y in ss]\n",
    "    Y = [y for x, y in ss]    \n",
    "    return X, Y\n",
    "\n",
    "\n",
    "import matplotlib.pyplot as plt\n",
    "import numpy as np\n",
    "\n",
    "\n",
    "\n",
    "X, _ = sort_two_lists_according_to_first(density_gt, speed_gt)\n",
    "plt.plot(X[smoothing_window//2:-smoothing_window//2], label=\"density\")    \n",
    "\n",
    "names = ['speed_gt', 'speed_err', 'speed_unc', 'volume_err', 'volume_gt', 'volume_unc']\n",
    "for index, var in enumerate([speed_gt, speed_err, speed_unc, volume_err, volume_gt, volume_unc]):\n",
    "    \n",
    "    sprint (len(var))\n",
    "    _, Y = sort_two_lists_according_to_first(density_gt, var)\n",
    "    Y = Y[smoothing_window//2:-smoothing_window//2]\n",
    "    \n",
    "    plt.plot(np.convolve(Y, [1/smoothing_window]*smoothing_window, \"same\"), label=names[index])\n",
    "#     plt.show()\n",
    "plt.yscale(\"log\")\n",
    "\n",
    "pos = np.array([0.0, 25.0, 50.0, 75.0, 99.0])\n",
    "perc = np.round(np.percentile(X, p), 2)\n",
    "\n",
    "plt.xticks(((len(X)-1) * pos/100), map(str, perc))\n",
    "plt.legend()\n",
    "plt.show()\n",
    "\n"
   ]
  },
  {
   "cell_type": "code",
   "execution_count": null,
   "id": "5509da40",
   "metadata": {},
   "outputs": [],
   "source": [
    "l = len(X)\n",
    "plt.hist(X[:int(l*0.99)], 200)\n",
    "plt.show()"
   ]
  },
  {
   "cell_type": "code",
   "execution_count": null,
   "id": "99c70520",
   "metadata": {},
   "outputs": [],
   "source": [
    "np.percentile(X, p)"
   ]
  },
  {
   "cell_type": "code",
   "execution_count": null,
   "id": "3752b88e",
   "metadata": {},
   "outputs": [],
   "source": [
    "# speed density plots\n",
    "def sort_three_lists_according_to_first(X,Y,Z):\n",
    "    ss = sorted(zip(X, Y, Z))\n",
    "    X = [x for x,y,z in ss]\n",
    "    Y = [y for x,y,z in ss]\n",
    "    Z = [z for x,y,z in ss]\n",
    "    return X, Y, Z\n",
    "\n",
    "def conv(X):\n",
    "    return np.convolve(X, [1/smoothing_window]*smoothing_window)\n",
    "                       \n",
    "import matplotlib.cm as cm\n",
    "\n",
    "\n",
    "U, D, S = sort_three_lists_according_to_first(conv(speed_unc), conv(density_gt), conv(speed_gt))\n",
    "sprint (len(U), len(S), len(D))\n",
    "max_99 = 0.99 * np.max(U)\n",
    "c = cm.viridis(np.array(U)/ max_99)\n",
    "c = c.tolist()\n",
    "\n",
    "plt.scatter(D, S, color=c, s=(np.array(U)), alpha=np.clip(np.array(U)/ max_99, 0,1))\n",
    "# plt.yscale(\"log\")\n",
    "# plt.xscale(\"log\")\n",
    "# plt.xlim(0,0.2)\n",
    "# plt.ylim(0,20)\n",
    "plt.colorbar()\n",
    "plt.xlabel(\"Density-Proxy\")\n",
    "plt.ylabel(\"Speed-GT\")\n",
    "plt.title(\"Speed vs Density curve colored by Speed-Uncertainty\")\n",
    "plt.show()"
   ]
  },
  {
   "cell_type": "code",
   "execution_count": null,
   "id": "a292a231",
   "metadata": {},
   "outputs": [],
   "source": [
    "# speed density plots\n",
    "def sort_three_lists_according_to_first(X,Y,Z):\n",
    "    ss = sorted(zip(X, Y, Z))\n",
    "    X = [x for x,y,z in ss]\n",
    "    Y = [y for x,y,z in ss]\n",
    "    Z = [z for x,y,z in ss]\n",
    "    return X, Y, Z\n",
    "\n",
    "def conv(X):\n",
    "    return np.convolve(X, [1/smoothing_window]*smoothing_window)\n",
    "                       \n",
    "import matplotlib.cm as cm\n",
    "\n",
    "\n",
    "U, D, V = sort_three_lists_according_to_first(conv(volume_unc), conv(density_gt), conv(volume_gt))\n",
    "sprint (len(U), len(S), len(D))\n",
    "\n",
    "max_99 = 0.99 * np.max(U)\n",
    "c = cm.viridis(np.array(U)/ max_99)\n",
    "c = c.tolist()\n",
    "\n",
    "plt.scatter(D, V, color=c, s=1, alpha=0.5) # np.clip(np.array(U)/ max_99, 0,1))\n",
    "# plt.yscale(\"log\")\n",
    "# plt.xscale(\"log\")\n",
    "# plt.xlim(0,0.2)\n",
    "# plt.ylim(0,20)\n",
    "plt.colorbar()\n",
    "plt.xlabel(\"Density-Proxy\")\n",
    "plt.ylabel(\"Volume-GT\")\n",
    "plt.title(\"Volume vs Density curve colored by Volume-Uncertainty\")\n",
    "plt.show()"
   ]
  },
  {
   "cell_type": "code",
   "execution_count": null,
   "id": "10c7a188",
   "metadata": {},
   "outputs": [],
   "source": [
    "plt.hist(U, 209)\n",
    "plt.xlim(0,6)\n",
    "plt.title(\"V\")\n",
    "plt.show()"
   ]
  },
  {
   "cell_type": "code",
   "execution_count": null,
   "id": "416fdaa7",
   "metadata": {},
   "outputs": [],
   "source": [
    "U[-1]"
   ]
  },
  {
   "cell_type": "code",
   "execution_count": null,
   "id": "c85886c5",
   "metadata": {},
   "outputs": [],
   "source": [
    "cm.GnBu"
   ]
  },
  {
   "cell_type": "code",
   "execution_count": null,
   "id": "f009cba5",
   "metadata": {},
   "outputs": [],
   "source": []
  },
  {
   "cell_type": "code",
   "execution_count": null,
   "id": "51fa9a0c",
   "metadata": {},
   "outputs": [],
   "source": []
  }
 ],
 "metadata": {
  "kernelspec": {
   "display_name": "Python 3 (ipykernel)",
   "language": "python",
   "name": "python3"
  },
  "language_info": {
   "codemirror_mode": {
    "name": "ipython",
    "version": 3
   },
   "file_extension": ".py",
   "mimetype": "text/x-python",
   "name": "python",
   "nbconvert_exporter": "python",
   "pygments_lexer": "ipython3",
   "version": "3.10.9"
  }
 },
 "nbformat": 4,
 "nbformat_minor": 5
}
